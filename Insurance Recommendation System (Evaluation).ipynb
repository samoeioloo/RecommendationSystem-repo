{
 "cells": [
  {
   "cell_type": "code",
   "execution_count": 4,
   "id": "retained-dallas",
   "metadata": {},
   "outputs": [],
   "source": [
    "import numpy as np\n",
    "import pandas as pd\n",
    "from pandas import Series, DataFrame\n",
    "from sklearn.linear_model import LogisticRegression\n",
    "from sklearn.metrics import classification_report\n",
    "bankFull = pd.read_csv(\"C:/Users/P/OneDrive/Desktop/Dev Projects/Recommendation System ML AI/bank_full_w_dummy_vars.csv\")\n"
   ]
  },
  {
   "cell_type": "code",
   "execution_count": 5,
   "id": "sporting-senior",
   "metadata": {},
   "outputs": [],
   "source": [
    "x = bankFull.iloc[:, [18, 19, 20, 21, 22, 23, 24, 25, 26, 27, 28, 29, 30, 31, 32, 33, 34, 35, 36,]].values\n",
    "y=bankFull.iloc[:,17].values"
   ]
  },
  {
   "cell_type": "code",
   "execution_count": 6,
   "id": "cubic-wiring",
   "metadata": {},
   "outputs": [],
   "source": [
    "LogReg = LogisticRegression()\n",
    "LogReg.fit(x,y)\n",
    "yPred = LogReg.predict(x)\n",
    "#yPred"
   ]
  },
  {
   "cell_type": "code",
   "execution_count": 7,
   "id": "statewide-width",
   "metadata": {},
   "outputs": [
    {
     "name": "stdout",
     "output_type": "stream",
     "text": [
      "              precision    recall  f1-score   support\n",
      "\n",
      "           0       0.90      0.99      0.94     39922\n",
      "           1       0.67      0.17      0.27      5289\n",
      "\n",
      "    accuracy                           0.89     45211\n",
      "   macro avg       0.79      0.58      0.61     45211\n",
      "weighted avg       0.87      0.89      0.86     45211\n",
      "\n"
     ]
    }
   ],
   "source": [
    "#Evaluate performance of model\n",
    "\n",
    "print(classification_report(y, yPred))"
   ]
  },
  {
   "cell_type": "code",
   "execution_count": null,
   "id": "therapeutic-botswana",
   "metadata": {},
   "outputs": [],
   "source": []
  }
 ],
 "metadata": {
  "kernelspec": {
   "display_name": "Python 3",
   "language": "python",
   "name": "python3"
  },
  "language_info": {
   "codemirror_mode": {
    "name": "ipython",
    "version": 3
   },
   "file_extension": ".py",
   "mimetype": "text/x-python",
   "name": "python",
   "nbconvert_exporter": "python",
   "pygments_lexer": "ipython3",
   "version": "3.9.2"
  }
 },
 "nbformat": 4,
 "nbformat_minor": 5
}
